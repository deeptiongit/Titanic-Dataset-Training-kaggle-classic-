{
 "cells": [
  {
   "cell_type": "code",
   "execution_count": 1,
   "id": "44da724b",
   "metadata": {
    "_cell_guid": "b1076dfc-b9ad-4769-8c92-a6c4dae69d19",
    "_uuid": "8f2839f25d086af736a60e9eeb907d3b93b6e0e5",
    "execution": {
     "iopub.execute_input": "2025-06-26T05:15:16.472217Z",
     "iopub.status.busy": "2025-06-26T05:15:16.471829Z",
     "iopub.status.idle": "2025-06-26T05:15:18.452392Z",
     "shell.execute_reply": "2025-06-26T05:15:18.451366Z"
    },
    "papermill": {
     "duration": 1.985987,
     "end_time": "2025-06-26T05:15:18.453978",
     "exception": false,
     "start_time": "2025-06-26T05:15:16.467991",
     "status": "completed"
    },
    "tags": []
   },
   "outputs": [
    {
     "name": "stdout",
     "output_type": "stream",
     "text": [
      "/kaggle/input/titanic/train.csv\n",
      "/kaggle/input/titanic/test.csv\n",
      "/kaggle/input/titanic/gender_submission.csv\n"
     ]
    }
   ],
   "source": [
    "# This Python 3 environment comes with many helpful analytics libraries installed\n",
    "# It is defined by the kaggle/python Docker image: https://github.com/kaggle/docker-python\n",
    "# For example, here's several helpful packages to load\n",
    "\n",
    "import numpy as np # linear algebra\n",
    "import pandas as pd # data processing, CSV file I/O (e.g. pd.read_csv)\n",
    "\n",
    "# Input data files are available in the read-only \"../input/\" directory\n",
    "# For example, running this (by clicking run or pressing Shift+Enter) will list all files under the input directory\n",
    "\n",
    "import os\n",
    "for dirname, _, filenames in os.walk('/kaggle/input'):\n",
    "    for filename in filenames:\n",
    "        print(os.path.join(dirname, filename))\n",
    "\n",
    "# You can write up to 20GB to the current directory (/kaggle/working/) that gets preserved as output when you create a version using \"Save & Run All\" \n",
    "# You can also write temporary files to /kaggle/temp/, but they won't be saved outside of the current session"
   ]
  },
  {
   "cell_type": "code",
   "execution_count": 2,
   "id": "a2a3ac26",
   "metadata": {
    "execution": {
     "iopub.execute_input": "2025-06-26T05:15:18.460440Z",
     "iopub.status.busy": "2025-06-26T05:15:18.460030Z",
     "iopub.status.idle": "2025-06-26T05:15:20.501421Z",
     "shell.execute_reply": "2025-06-26T05:15:20.500520Z"
    },
    "papermill": {
     "duration": 2.048982,
     "end_time": "2025-06-26T05:15:20.505696",
     "exception": false,
     "start_time": "2025-06-26T05:15:18.456714",
     "status": "completed"
    },
    "tags": []
   },
   "outputs": [
    {
     "name": "stdout",
     "output_type": "stream",
     "text": [
      "Accuracy: 74.83 %\n",
      "Confusion Matrix:\n",
      " [[71 16]\n",
      " [20 36]]\n"
     ]
    }
   ],
   "source": [
    "\n",
    "\n",
    "import pandas as pd\n",
    "from sklearn.model_selection import train_test_split\n",
    "from sklearn.linear_model import LogisticRegression\n",
    "from sklearn.metrics import accuracy_score, confusion_matrix\n",
    "\n",
    "# Load Titanic dataset\n",
    "df = pd.read_csv(\"/kaggle/input/titanic/train.csv\")\n",
    "\n",
    "# Select features and target\n",
    "features = ['Pclass', 'Sex', 'Age', 'SibSp', 'Parch', 'Fare']\n",
    "df = df[features + ['Survived']].dropna()\n",
    "\n",
    "# Encode categorical variable\n",
    "df['Sex'] = df['Sex'].map({'male': 0, 'female': 1})\n",
    "\n",
    "X = df[features]\n",
    "y = df['Survived']\n",
    "\n",
    "# Train-test split\n",
    "X_train, X_test, y_train, y_test = train_test_split(X, y, test_size=0.2, random_state=42)\n",
    "\n",
    "# Train logistic regression model\n",
    "model = LogisticRegression(max_iter=200)\n",
    "model.fit(X_train, y_train)\n",
    "\n",
    "# Predict and evaluate\n",
    "y_pred = model.predict(X_test)\n",
    "acc = accuracy_score(y_test, y_pred)\n",
    "cm = confusion_matrix(y_test, y_pred)\n",
    "\n",
    "print(\"Accuracy:\", round(acc * 100, 2), \"%\")\n",
    "print(\"Confusion Matrix:\\n\", cm)"
   ]
  },
  {
   "cell_type": "code",
   "execution_count": 3,
   "id": "3340e703",
   "metadata": {
    "execution": {
     "iopub.execute_input": "2025-06-26T05:15:20.512977Z",
     "iopub.status.busy": "2025-06-26T05:15:20.512589Z",
     "iopub.status.idle": "2025-06-26T05:15:20.536284Z",
     "shell.execute_reply": "2025-06-26T05:15:20.535532Z"
    },
    "papermill": {
     "duration": 0.029584,
     "end_time": "2025-06-26T05:15:20.538209",
     "exception": false,
     "start_time": "2025-06-26T05:15:20.508625",
     "status": "completed"
    },
    "tags": []
   },
   "outputs": [],
   "source": [
    "test_df = pd.read_csv(\"/kaggle/input/titanic/test.csv\")\n",
    "test_df['Sex'] = test_df['Sex'].map({'male': 0, 'female': 1})\n",
    "\n",
    "mask = test_df[features].notna().all(axis=1)\n",
    "\n",
    "valid_x = test_df.loc[mask, features]\n",
    "valid_pred = model.predict(valid_x).astype(np.int64)\n",
    "# y_pred = pd.Series(np.nan, index=test_df.index)\n",
    "y_pred = pd.Series([''] * len(test_df), index=test_df.index)\n",
    "y_pred[mask] = valid_pred\n",
    "\n"
   ]
  },
  {
   "cell_type": "code",
   "execution_count": 4,
   "id": "ed354cf7",
   "metadata": {
    "execution": {
     "iopub.execute_input": "2025-06-26T05:15:20.545462Z",
     "iopub.status.busy": "2025-06-26T05:15:20.545138Z",
     "iopub.status.idle": "2025-06-26T05:15:20.563459Z",
     "shell.execute_reply": "2025-06-26T05:15:20.562678Z"
    },
    "papermill": {
     "duration": 0.024225,
     "end_time": "2025-06-26T05:15:20.565814",
     "exception": false,
     "start_time": "2025-06-26T05:15:20.541589",
     "status": "completed"
    },
    "tags": []
   },
   "outputs": [],
   "source": [
    "submission = pd.DataFrame({\n",
    "    'PassengerId': test_df['PassengerId'],\n",
    "    'Survived': y_pred\n",
    "})\n",
    "submission = submission\n",
    "submission.to_csv('submission.csv', index=False)\n"
   ]
  }
 ],
 "metadata": {
  "kaggle": {
   "accelerator": "none",
   "dataSources": [
    {
     "databundleVersionId": 26502,
     "sourceId": 3136,
     "sourceType": "competition"
    }
   ],
   "dockerImageVersionId": 31040,
   "isGpuEnabled": false,
   "isInternetEnabled": true,
   "language": "python",
   "sourceType": "notebook"
  },
  "kernelspec": {
   "display_name": "Python 3",
   "language": "python",
   "name": "python3"
  },
  "language_info": {
   "codemirror_mode": {
    "name": "ipython",
    "version": 3
   },
   "file_extension": ".py",
   "mimetype": "text/x-python",
   "name": "python",
   "nbconvert_exporter": "python",
   "pygments_lexer": "ipython3",
   "version": "3.11.11"
  },
  "papermill": {
   "default_parameters": {},
   "duration": 12.133407,
   "end_time": "2025-06-26T05:15:23.759332",
   "environment_variables": {},
   "exception": null,
   "input_path": "__notebook__.ipynb",
   "output_path": "__notebook__.ipynb",
   "parameters": {},
   "start_time": "2025-06-26T05:15:11.625925",
   "version": "2.6.0"
  }
 },
 "nbformat": 4,
 "nbformat_minor": 5
}
